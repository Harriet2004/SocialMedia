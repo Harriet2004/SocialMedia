{
 "cells": [
  {
   "cell_type": "code",
   "execution_count": 1,
   "id": "7304adbd",
   "metadata": {},
   "outputs": [],
   "source": [
    "path = \"graphs/reddit/qatar_world_cup.graphml\""
   ]
  },
  {
   "cell_type": "code",
   "execution_count": 3,
   "id": "fe239a62",
   "metadata": {},
   "outputs": [
    {
     "data": {
      "text/plain": [
       "'graphs/reddit/qatar_world_cup'"
      ]
     },
     "execution_count": 3,
     "metadata": {},
     "output_type": "execute_result"
    }
   ],
   "source": [
    "path[:-8]"
   ]
  },
  {
   "cell_type": "code",
   "execution_count": 4,
   "id": "c6c5bb9f",
   "metadata": {},
   "outputs": [],
   "source": [
    "import networkx as nx\n",
    "import community as community_louvain\n",
    "\n",
    "graph = nx.read_graphml(path)\n",
    "if graph.is_directed():\n",
    "    graph = graph.to_undirected()\n",
    "\n",
    "partition = community_louvain.best_partition(graph)\n",
    "nx.set_node_attributes(graph, partition, 'community')\n",
    "\n",
    "nx.write_graphml(graph, f\"{path[:-8]}_louvain.graphml\")"
   ]
  }
 ],
 "metadata": {
  "kernelspec": {
   "display_name": "base",
   "language": "python",
   "name": "python3"
  },
  "language_info": {
   "codemirror_mode": {
    "name": "ipython",
    "version": 3
   },
   "file_extension": ".py",
   "mimetype": "text/x-python",
   "name": "python",
   "nbconvert_exporter": "python",
   "pygments_lexer": "ipython3",
   "version": "3.12.7"
  }
 },
 "nbformat": 4,
 "nbformat_minor": 5
}
