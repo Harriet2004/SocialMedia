{
 "cells": [
  {
   "cell_type": "code",
   "execution_count": 1,
   "id": "7eb20808",
   "metadata": {},
   "outputs": [],
   "source": [
    "import pandas as pd\n",
    "\n",
    "path = \"datasets/reddit_cleaned.csv\"\n",
    "# path = \"datasets/reddit/paris_olympics.csv\"\n",
    "# path = \"datasets/reddit/tokyo_olympics.csv\"\n",
    "# path = \"datasets/reddit/qatar_world_cup.csv\"\n",
    "# path = \"datasets/reddit/russia_world_cup.csv\"\n",
    "\n",
    "path = \"datasets/youtube/paris_olympics.csv\"\n",
    "path = \"datasets/youtube/tokyo_olympics.csv\"\n",
    "path = \"datasets/youtube/qatar_world_cup.csv\"\n",
    "path = \"datasets/youtube/russia_world_cup.csv\""
   ]
  },
  {
   "cell_type": "code",
   "execution_count": 2,
   "id": "cbdeaa4c",
   "metadata": {},
   "outputs": [],
   "source": [
    "df = pd.read_csv(path)"
   ]
  },
  {
   "cell_type": "code",
   "execution_count": 3,
   "id": "61047155",
   "metadata": {},
   "outputs": [],
   "source": [
    "# df['parent_id'] = df['parent_id'].astype(str).str.replace(r'^t[13]_', '', regex=True)"
   ]
  },
  {
   "cell_type": "code",
   "execution_count": 4,
   "id": "78df3d18",
   "metadata": {},
   "outputs": [],
   "source": [
    "# df.to_csv(\"datasets/reddit_cleaned_strip_id_prefix.csv\", index=False)"
   ]
  },
  {
   "cell_type": "code",
   "execution_count": 5,
   "id": "dd2f14f1",
   "metadata": {},
   "outputs": [
    {
     "name": "stdout",
     "output_type": "stream",
     "text": [
      "<class 'pandas.core.frame.DataFrame'>\n",
      "RangeIndex: 23802 entries, 0 to 23801\n",
      "Data columns (total 7 columns):\n",
      " #   Column     Non-Null Count  Dtype  \n",
      "---  ------     --------------  -----  \n",
      " 0   id         23802 non-null  object \n",
      " 1   parent_id  23656 non-null  object \n",
      " 2   text       23796 non-null  object \n",
      " 3   author     23793 non-null  object \n",
      " 4   views      146 non-null    float64\n",
      " 5   likes      23800 non-null  float64\n",
      " 6   datetime   23802 non-null  object \n",
      "dtypes: float64(2), object(5)\n",
      "memory usage: 1.3+ MB\n"
     ]
    }
   ],
   "source": [
    "df.info()"
   ]
  },
  {
   "cell_type": "code",
   "execution_count": 6,
   "id": "51a85886",
   "metadata": {},
   "outputs": [
    {
     "name": "stdout",
     "output_type": "stream",
     "text": [
      "                               id                   parent_id  \\\n",
      "36     UgzpZv77EEL_pOVR41F4AaABAg  UgzpZv77EEL_pOVR41F4AaABAg   \n",
      "45     Ugz8-ZSsJTtaytGwPIJ4AaABAg  Ugz8-ZSsJTtaytGwPIJ4AaABAg   \n",
      "74     UgzZVgye4DxT3Wce_lh4AaABAg  UgzZVgye4DxT3Wce_lh4AaABAg   \n",
      "75     UgzZVgye4DxT3Wce_lh4AaABAg  UgzZVgye4DxT3Wce_lh4AaABAg   \n",
      "76     UgzZVgye4DxT3Wce_lh4AaABAg  UgzZVgye4DxT3Wce_lh4AaABAg   \n",
      "...                           ...                         ...   \n",
      "23642  UgwuJSXK597myuoik4J4AaABAg  UgwuJSXK597myuoik4J4AaABAg   \n",
      "23643  UgwuJSXK597myuoik4J4AaABAg  UgwuJSXK597myuoik4J4AaABAg   \n",
      "23699  UgxYud-cdpfvVJJzHit4AaABAg  UgxYud-cdpfvVJJzHit4AaABAg   \n",
      "23700  UgxYud-cdpfvVJJzHit4AaABAg  UgxYud-cdpfvVJJzHit4AaABAg   \n",
      "23701  UgxYud-cdpfvVJJzHit4AaABAg  UgxYud-cdpfvVJJzHit4AaABAg   \n",
      "\n",
      "                                                    text  \\\n",
      "36     @@Naufal_irfanI do. We dont all come from Braz...   \n",
      "45                                                 💉 💉 💉   \n",
      "74                                 @@Ettolombaспасибо🤝❤️   \n",
      "75                                                 Сигма   \n",
      "76       ​@@Ettolomba Скорее всего лет через 10 минимум.   \n",
      "...                                                  ...   \n",
      "23642  @@panther5577 They were in the sky bcs of the ...   \n",
      "23643                  @@tonizivkovic343 they will losse   \n",
      "23699  ​@@Harishivkrishna Woh sirf men's cricket ki b...   \n",
      "23700  ​@ChitranshuTiwari-d5o usne ICC likha Men's nahi.   \n",
      "23701  @@Harishivkrishna to jab baat men's cricket ki...   \n",
      "\n",
      "                      author  views  likes             datetime  \n",
      "36      @countertarrifingbro    NaN    0.0  2025-01-22 22:13:41  \n",
      "45        @DanielSmith-ky9uf    NaN    0.0  2024-11-10 10:03:44  \n",
      "74                  @SCRILOK    NaN    0.0  2024-12-11 04:07:59  \n",
      "75                @Aiuzizkkz    NaN    1.0  2024-12-18 15:15:52  \n",
      "76             @OrdinaryEgor    NaN    0.0  2025-04-01 17:05:45  \n",
      "...                      ...    ...    ...                  ...  \n",
      "23642       @tonizivkovic343    NaN    0.0  2018-09-15 15:10:52  \n",
      "23643           @panther5577    NaN    0.0  2018-09-15 15:51:01  \n",
      "23699  @ChitranshuTiwari-d5o    NaN    0.0  2025-03-21 11:17:10  \n",
      "23700       @Harishivkrishna    NaN    0.0  2025-03-21 11:24:01  \n",
      "23701  @ChitranshuTiwari-d5o    NaN    0.0  2025-03-21 11:27:35  \n",
      "\n",
      "[2245 rows x 7 columns]\n"
     ]
    }
   ],
   "source": [
    "duplicates = df[df.duplicated(subset=['id', 'parent_id'])]\n",
    "print(duplicates)\n",
    "\n",
    "duplicates.to_csv(\"dup.csv\")"
   ]
  }
 ],
 "metadata": {
  "kernelspec": {
   "display_name": "base",
   "language": "python",
   "name": "python3"
  },
  "language_info": {
   "codemirror_mode": {
    "name": "ipython",
    "version": 3
   },
   "file_extension": ".py",
   "mimetype": "text/x-python",
   "name": "python",
   "nbconvert_exporter": "python",
   "pygments_lexer": "ipython3",
   "version": "3.12.7"
  }
 },
 "nbformat": 4,
 "nbformat_minor": 5
}
