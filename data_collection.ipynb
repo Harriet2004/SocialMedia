{
 "cells": [
  {
   "cell_type": "code",
   "execution_count": null,
   "id": "406d8179",
   "metadata": {},
   "outputs": [],
   "source": [
    "from data_collection.credentials import YOUTUBE_API_KEY as key\n",
    "from data_collection.youtube import fetch as y_fetch\n",
    "\n",
    "y_fetch([\n",
    "    \"Paris Olympics 2024\", \n",
    "    \"Paris 2024 controversy\", \n",
    "    \"Paris 2024 crowd reactions\"\n",
    "], key, 25000, \"datasets/youtube/paris_olympics.csv\")\n",
    "\n",
    "y_fetch([\n",
    "    \"Tokyo Olympics 2020\", \n",
    "    \"Tokyo 2020 controversy\", \n",
    "    \"Tokyo 2020 crowd reactions\"\n",
    "], key, 25000, \"datasets/youtube/tokyo_olympics.csv\")\n",
    "\n",
    "y_fetch([\n",
    "    \"Qatar 2022\", \n",
    "    \"World Cup 2022 crowd reactions\", \n",
    "    \"World Cup 2022 controversy\"\n",
    "], key, 25000, \"datasets/youtube/qatar_world_cup.csv\")\n",
    "\n",
    "y_fetch([\n",
    "    \"Russia 2018\", \n",
    "    \"World Cup 2018 crowd reactions\", \n",
    "    \"World Cup 2018 controversy\"\n",
    "], key, 25000, \"datasets/youtube/russia_world_cup.csv\")"
   ]
  },
  {
   "cell_type": "code",
   "execution_count": null,
   "id": "9d328938",
   "metadata": {},
   "outputs": [],
   "source": [
    "from data_collection.reddit import fetch as r_fetch\n",
    "\n",
    "r_fetch([\n",
    "    \"Paris Olympics 2024\", \n",
    "    \"Paris 2024 controversy\", \n",
    "    \"Paris 2024 crowd reactions\"\n",
    "], 25000, \"datasets/reddit/paris_olympics.csv\")\n",
    "\n",
    "r_fetch([\n",
    "    \"Tokyo Olympics 2020\", \n",
    "    \"Tokyo 2020 controversy\", \n",
    "    \"Tokyo 2020 crowd reactions\"\n",
    "], 25000, \"datasets/reddit/tokyo_olympics.csv\")\n",
    "\n",
    "r_fetch([\n",
    "    \"Qatar 2022\", \n",
    "    \"World Cup 2022 crowd reactions\", \n",
    "    \"World Cup 2022 controversy\"\n",
    "], 25000, \"datasets/reddit/qatar_world_cup.csv\")\n",
    "\n",
    "r_fetch([\n",
    "    \"Russia 2018\", \n",
    "    \"World Cup 2018 crowd reactions\", \n",
    "    \"World Cup 2018 controversy\"\n",
    "], 25000, \"datasets/reddit/russia_world_cup.csv\")"
   ]
  }
 ],
 "metadata": {
  "language_info": {
   "name": "python"
  }
 },
 "nbformat": 4,
 "nbformat_minor": 5
}
