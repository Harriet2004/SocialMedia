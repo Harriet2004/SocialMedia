{
 "cells": [
  {
   "cell_type": "code",
   "execution_count": 3,
   "id": "5e8f5d4a",
   "metadata": {},
   "outputs": [],
   "source": [
    "# path = \"datasets/reddit/paris_olympics.csv\"\n",
    "# path = \"datasets/reddit/tokyo_olympics.csv\"\n",
    "# path = \"datasets/reddit/qatar_world_cup.csv\"\n",
    "# path = \"datasets/reddit/russia_world_cup.csv\"\n",
    "\n",
    "# path = \"datasets/youtube/paris_olympics.csv\"\n",
    "# path = \"datasets/youtube/tokyo_olympics.csv\"\n",
    "# path = \"datasets/youtube/qatar_world_cup.csv\"\n",
    "# path = \"datasets/youtube/russia_world_cup.csv\""
   ]
  },
  {
   "cell_type": "code",
   "execution_count": 4,
   "id": "fc21e02c",
   "metadata": {},
   "outputs": [
    {
     "name": "stdout",
     "output_type": "stream",
     "text": [
      "100.00%"
     ]
    }
   ],
   "source": [
    "import networkx as nx\n",
    "import pandas as pd\n",
    "\n",
    "df = pd.read_csv(path)\n",
    "df['parent_id'] = df['parent_id'].astype(str)\n",
    "\n",
    "graph = nx.DiGraph()\n",
    "\n",
    "author_lookup = dict(zip(df['id'], df['author']))\n",
    "\n",
    "\n",
    "size = len(df)\n",
    "\n",
    "for idx, row in df.iterrows():\n",
    "\n",
    "    child_author = row[\"author\"]\n",
    "    parent_author = author_lookup.get(row[\"parent_id\"].split(\"_\")[-1])\n",
    "\n",
    "    if parent_author and child_author and child_author != '[deleted]' and parent_author != '[deleted]' and child_author != '[removed]' and parent_author != '[removed]':\n",
    "        graph.add_edge(child_author, parent_author)\n",
    "\n",
    "    print(f\"\\r{(idx+1)/size*100:.2f}%\", end=\"\")\n",
    "\n",
    "nx.write_graphml(graph, \"graphs/reddit/qatar_world_cup.graphml\")"
   ]
  },
  {
   "cell_type": "code",
   "execution_count": 11,
   "id": "d3227d21-8558-4a2f-a076-ab3c302ad1b7",
   "metadata": {},
   "outputs": [
    {
     "name": "stdout",
     "output_type": "stream",
     "text": [
      "World Cup Progress: 100.00%"
     ]
    }
   ],
   "source": [
    "# Combine World Cup CSVs\n",
    "worldcup_paths = [\n",
    "    \"datasets/reddit/qatar_world_cup.csv\",\n",
    "    \"datasets/reddit/russia_world_cup.csv\",\n",
    "    \"datasets/youtube/qatar_world_cup.csv\",\n",
    "    \"datasets/youtube/russia_world_cup.csv\"\n",
    "]\n",
    "\n",
    "df_list = [pd.read_csv(p) for p in worldcup_paths]\n",
    "df = pd.concat(df_list, ignore_index=True)\n",
    "df['parent_id'] = df['parent_id'].astype(str)\n",
    "\n",
    "graph = nx.DiGraph()\n",
    "author_lookup = dict(zip(df['id'], df['author']))\n",
    "\n",
    "size = len(df)\n",
    "\n",
    "for idx, row in df.iterrows():\n",
    "    child_author = row[\"author\"]\n",
    "    parent_author = author_lookup.get(row[\"parent_id\"].split(\"_\")[-1])\n",
    "\n",
    "    if child_author and parent_author and \\\n",
    "       child_author not in ['[deleted]', '[removed]'] and \\\n",
    "       parent_author not in ['[deleted]', '[removed]']:\n",
    "        graph.add_edge(child_author, parent_author)\n",
    "\n",
    "    print(f\"\\rWorld Cup Progress: {(idx+1)/size*100:.2f}%\", end=\"\")\n",
    "\n",
    "# Save World Cup graph\n",
    "os.makedirs(\"graphs/reddit\", exist_ok=True)\n",
    "nx.write_graphml(graph, \"graphs/world_cup_combined.graphml\")"
   ]
  },
  {
   "cell_type": "code",
   "execution_count": 12,
   "id": "0bd32d19-b334-4a6e-971e-20456a22a019",
   "metadata": {},
   "outputs": [
    {
     "name": "stdout",
     "output_type": "stream",
     "text": [
      "World Cup Progress: 100.00%"
     ]
    }
   ],
   "source": [
    "# Combine World Cup CSVs\n",
    "worldcup_paths = [\n",
    "    \"datasets/reddit/paris_olympics.csv\",\n",
    "    \"datasets/reddit/tokyo_olympics.csv\",\n",
    "    \"datasets/youtube/paris_olympics.csv\",\n",
    "    \"datasets/youtube/tokyo_olympics.csv\"\n",
    "]\n",
    "\n",
    "df_list = [pd.read_csv(p) for p in worldcup_paths]\n",
    "df = pd.concat(df_list, ignore_index=True)\n",
    "df['parent_id'] = df['parent_id'].astype(str)\n",
    "\n",
    "graph = nx.DiGraph()\n",
    "author_lookup = dict(zip(df['id'], df['author']))\n",
    "\n",
    "size = len(df)\n",
    "\n",
    "for idx, row in df.iterrows():\n",
    "    child_author = row[\"author\"]\n",
    "    parent_author = author_lookup.get(row[\"parent_id\"].split(\"_\")[-1])\n",
    "\n",
    "    if child_author and parent_author and \\\n",
    "       child_author not in ['[deleted]', '[removed]'] and \\\n",
    "       parent_author not in ['[deleted]', '[removed]']:\n",
    "        graph.add_edge(child_author, parent_author)\n",
    "\n",
    "    print(f\"\\rWorld Cup Progress: {(idx+1)/size*100:.2f}%\", end=\"\")\n",
    "\n",
    "# Save World Cup graph\n",
    "os.makedirs(\"graphs/reddit\", exist_ok=True)\n",
    "nx.write_graphml(graph, \"graphs/olympics_combined.graphml\")"
   ]
  },
  {
   "cell_type": "code",
   "execution_count": null,
   "id": "6ae452a3-bfb4-44b7-9065-4f1db816c489",
   "metadata": {},
   "outputs": [],
   "source": []
  }
 ],
 "metadata": {
  "kernelspec": {
   "display_name": "Python 3 (ipykernel)",
   "language": "python",
   "name": "python3"
  },
  "language_info": {
   "codemirror_mode": {
    "name": "ipython",
    "version": 3
   },
   "file_extension": ".py",
   "mimetype": "text/x-python",
   "name": "python",
   "nbconvert_exporter": "python",
   "pygments_lexer": "ipython3",
   "version": "3.13.2"
  }
 },
 "nbformat": 4,
 "nbformat_minor": 5
}
