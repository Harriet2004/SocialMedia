{
 "cells": [
  {
   "cell_type": "code",
   "execution_count": 1,
   "id": "5e8f5d4a",
   "metadata": {},
   "outputs": [],
   "source": [
    "# path = \"datasets/reddit/paris_olympics.csv\"\n",
    "# path = \"datasets/reddit/tokyo_olympics.csv\"\n",
    "path = \"datasets/reddit/qatar_world_cup.csv\"\n",
    "# path = \"datasets/reddit/russia_world_cup.csv\"\n",
    "\n",
    "# path = \"datasets/youtube/paris_olympics.csv\"\n",
    "# path = \"datasets/youtube/tokyo_olympics.csv\"\n",
    "# path = \"datasets/youtube/qatar_world_cup.csv\"\n",
    "# path = \"datasets/youtube/russia_world_cup.csv\""
   ]
  },
  {
   "cell_type": "code",
   "execution_count": null,
   "id": "fc21e02c",
   "metadata": {},
   "outputs": [
    {
     "name": "stdout",
     "output_type": "stream",
     "text": [
      "100.00%"
     ]
    }
   ],
   "source": [
    "import networkx as nx\n",
    "import pandas as pd\n",
    "\n",
    "df = pd.read_csv(path)\n",
    "df['parent_id'] = df['parent_id'].astype(str)\n",
    "\n",
    "graph = nx.DiGraph()\n",
    "\n",
    "author_lookup = dict(zip(df['id'], df['author']))\n",
    "\n",
    "\n",
    "size = len(df)\n",
    "\n",
    "for idx, row in df.iterrows():\n",
    "\n",
    "    child_author = row[\"author\"]\n",
    "    parent_author = author_lookup.get(row[\"parent_id\"].split(\"_\")[-1])\n",
    "\n",
    "    if parent_author and child_author and child_author != '[deleted]' and parent_author != '[deleted]':\n",
    "        graph.add_edge(child_author, parent_author)\n",
    "\n",
    "    print(f\"\\r{(idx+1)/size*100:.2f}%\", end=\"\")\n",
    "\n",
    "nx.write_graphml(graph, \"graphs/reddit/qatar_world_cup.graphml\")"
   ]
  }
 ],
 "metadata": {
  "kernelspec": {
   "display_name": "base",
   "language": "python",
   "name": "python3"
  },
  "language_info": {
   "codemirror_mode": {
    "name": "ipython",
    "version": 3
   },
   "file_extension": ".py",
   "mimetype": "text/x-python",
   "name": "python",
   "nbconvert_exporter": "python",
   "pygments_lexer": "ipython3",
   "version": "3.12.7"
  }
 },
 "nbformat": 4,
 "nbformat_minor": 5
}
