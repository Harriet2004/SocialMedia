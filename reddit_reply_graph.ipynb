{
 "cells": [
  {
   "cell_type": "code",
   "execution_count": 1,
   "id": "5e8f5d4a",
   "metadata": {},
   "outputs": [],
   "source": [
    "# path = \"datasets/reddit/paris_olympics.csv\"\n",
    "# path = \"datasets/reddit/tokyo_olympics.csv\"\n",
    "path = \"datasets/reddit/qatar_world_cup.csv\"\n",
    "# path = \"datasets/reddit/russia_world_cup.csv\"\n",
    "\n",
    "# path = \"datasets/youtube/paris_olympics.csv\"\n",
    "# path = \"datasets/youtube/tokyo_olympics.csv\"\n",
    "# path = \"datasets/youtube/qatar_world_cup.csv\"\n",
    "# path = \"datasets/youtube/russia_world_cup.csv\""
   ]
  },
  {
   "cell_type": "code",
   "execution_count": null,
   "id": "fc21e02c",
   "metadata": {},
   "outputs": [
    {
     "name": "stdout",
     "output_type": "stream",
     "text": [
      "100.00%"
     ]
    }
   ],
   "source": [
    "import networkx as nx\n",
    "import pandas as pd\n",
    "\n",
    "df = pd.read_csv(path)\n",
    "df['parent_id'] = df['parent_id'].astype(str)\n",
    "\n",
    "graph = nx.DiGraph()\n",
    "\n",
    "author_lookup = dict(zip(df['id'], df['author']))\n",
    "\n",
    "\n",
    "size = len(df)\n",
    "\n",
    "for idx, row in df.iterrows():\n",
    "\n",
    "    child_author = row[\"author\"]\n",
    "    parent_author = author_lookup.get(row[\"parent_id\"].split(\"_\")[-1])\n",
    "\n",
    "    if parent_author and child_author and child_author != '[deleted]' and parent_author != '[deleted]' and child_author != '[removed]' and parent_author != '[removed]':\n",
    "        graph.add_edge(child_author, parent_author)\n",
    "\n",
    "    print(f\"\\r{(idx+1)/size*100:.2f}%\", end=\"\")\n",
    "\n",
    "nx.write_graphml(graph, \"graphs/reddit/qatar_world_cup_user_graph.graphml\")"
   ]
  },
  {
   "cell_type": "code",
   "execution_count": 1,
   "id": "3eee15ba",
   "metadata": {},
   "outputs": [
    {
     "name": "stdout",
     "output_type": "stream",
     "text": [
      "100.00%"
     ]
    }
   ],
   "source": [
    "# For linking comments\n",
    "\n",
    "import networkx as nx\n",
    "import pandas as pd\n",
    "\n",
    "path = \"datasets/reddit_combined.csv\"\n",
    "\n",
    "df = pd.read_csv(path)\n",
    "df['parent_id'] = df['parent_id'].astype(str)\n",
    "\n",
    "graph = nx.DiGraph()\n",
    "\n",
    "size = len(df)\n",
    "\n",
    "for idx, row in df.iterrows():\n",
    "\n",
    "    parent_id = row[\"parent_id\"].split(\"_\")[-1]\n",
    "    graph.add_edge(row[\"id\"], parent_id, event=row[\"event\"])\n",
    "    print(f\"\\r{(idx+1)/size*100:.2f}%\", end=\"\")\n",
    "\n",
    "nx.write_graphml(graph, \"graphs/reddit/reddit_combined_graph.graphml\")"
   ]
  },
  {
   "cell_type": "code",
   "execution_count": 4,
   "id": "8e88a85b",
   "metadata": {},
   "outputs": [
    {
     "name": "stdout",
     "output_type": "stream",
     "text": [
      "49825\n",
      "199.99%49822\n",
      "100.00%"
     ]
    }
   ],
   "source": [
    "# For linking comments\n",
    "\n",
    "import networkx as nx\n",
    "import pandas as pd\n",
    "\n",
    "path = \"datasets/reddit_combined.csv\"\n",
    "\n",
    "df = pd.read_csv(path)\n",
    "df['parent_id'] = df['parent_id'].astype(str)\n",
    "\n",
    "olympics = df[df[\"event\"] == \"Olympics\"].copy()\n",
    "sizeo = len(olympics)\n",
    "print(sizeo)\n",
    "grapho = nx.DiGraph()\n",
    "for idx, row in olympics.iterrows():\n",
    "    parent_id = row[\"parent_id\"].split(\"_\")[-1]\n",
    "    grapho.add_edge(row[\"id\"], parent_id)\n",
    "    print(f\"\\r{(idx+1)/sizeo*100:.2f}%\", end=\"\")\n",
    "nx.write_graphml(grapho, \"graphs/reddit/reddit_olympics_comment_graph.graphml\")\n",
    "\n",
    "world_cup = df[df[\"event\"] == \"World Cup\"].copy()\n",
    "sizew = len(world_cup)\n",
    "print(sizew)\n",
    "graphw = nx.DiGraph()\n",
    "for idx, row in world_cup.iterrows():\n",
    "    parent_id = row[\"parent_id\"].split(\"_\")[-1]\n",
    "    graphw.add_edge(row[\"id\"], parent_id)\n",
    "    print(f\"\\r{(idx+1)/sizew*100:.2f}%\", end=\"\")\n",
    "nx.write_graphml(graphw, \"graphs/reddit/reddit_world_cup_comment_graph.graphml\")\n"
   ]
  }
 ],
 "metadata": {
  "kernelspec": {
   "display_name": "base",
   "language": "python",
   "name": "python3"
  },
  "language_info": {
   "codemirror_mode": {
    "name": "ipython",
    "version": 3
   },
   "file_extension": ".py",
   "mimetype": "text/x-python",
   "name": "python",
   "nbconvert_exporter": "python",
   "pygments_lexer": "ipython3",
   "version": "3.12.7"
  }
 },
 "nbformat": 4,
 "nbformat_minor": 5
}
