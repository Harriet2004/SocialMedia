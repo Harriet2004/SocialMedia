{
 "cells": [
  {
   "cell_type": "code",
   "execution_count": 1,
   "id": "6b07e9bf",
   "metadata": {},
   "outputs": [],
   "source": [
    "# example usage of get_comments\n",
    "from credentials import YOUTUBE_API_KEY as key\n",
    "from youtube_api import get_comments\n",
    "\n",
    "get_comments(video_id=\"BbgEbWaLNAE\", key=key)"
   ]
  }
 ],
 "metadata": {
  "kernelspec": {
   "display_name": "base",
   "language": "python",
   "name": "python3"
  },
  "language_info": {
   "codemirror_mode": {
    "name": "ipython",
    "version": 3
   },
   "file_extension": ".py",
   "mimetype": "text/x-python",
   "name": "python",
   "nbconvert_exporter": "python",
   "pygments_lexer": "ipython3",
   "version": "3.12.7"
  }
 },
 "nbformat": 4,
 "nbformat_minor": 5
}
