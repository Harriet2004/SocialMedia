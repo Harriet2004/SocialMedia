{
 "cells": [
  {
   "cell_type": "code",
   "execution_count": 1,
   "id": "6b07e9bf",
   "metadata": {},
   "outputs": [],
   "source": [
    "# example usage of get_comments\n",
    "from credentials import YOUTUBE_API_KEY as key\n",
    "from youtube_api import get_comments\n",
    "\n",
    "get_comments(video_id=\"BbgEbWaLNAE\", key=key)"
   ]
  },
  {
   "cell_type": "code",
   "execution_count": 1,
   "id": "36c60a23",
   "metadata": {},
   "outputs": [
    {
     "data": {
      "text/plain": [
       "['iz71yFVeKhw',\n",
       " 'D09QkQ8Cyow',\n",
       " 'c_-vHShsF9o',\n",
       " 'jo_t6CbKsGo',\n",
       " 'zQxQKVfHQLw',\n",
       " '1G1R2IwUBVo',\n",
       " 'BP5LIDg2JR4',\n",
       " 'x04jgjQ_hLI',\n",
       " 'TcTSQXpp1xM',\n",
       " '7aQ_ZtIZIjg',\n",
       " 'Hj6xReWffDk',\n",
       " 'k391xWc5K7I',\n",
       " '9wQ-GYnKPYM',\n",
       " 'V3aeiR7plQw',\n",
       " 'wa7HpWw7DEk',\n",
       " 'bXIAfVppavI',\n",
       " '3ePAoAOOHVw',\n",
       " 'Id1rwD0RU5k',\n",
       " 'MPxRRW6ew-w',\n",
       " 'dK4S4V0SrM4']"
      ]
     },
     "execution_count": 1,
     "metadata": {},
     "output_type": "execute_result"
    }
   ],
   "source": [
    "# example usage of get_videos\n",
    "from credentials import YOUTUBE_API_KEY as key\n",
    "from youtube_api import get_videos\n",
    "\n",
    "results = get_videos(query=\"olympics\", limit=20, key=key)\n",
    "results"
   ]
  }
 ],
 "metadata": {
  "kernelspec": {
   "display_name": "base",
   "language": "python",
   "name": "python3"
  },
  "language_info": {
   "codemirror_mode": {
    "name": "ipython",
    "version": 3
   },
   "file_extension": ".py",
   "mimetype": "text/x-python",
   "name": "python",
   "nbconvert_exporter": "python",
   "pygments_lexer": "ipython3",
   "version": "3.12.7"
  }
 },
 "nbformat": 4,
 "nbformat_minor": 5
}
